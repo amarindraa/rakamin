{
  "cells": [
    {
      "cell_type": "markdown",
      "metadata": {
        "id": "view-in-github",
        "colab_type": "text"
      },
      "source": [
        "<a href=\"https://colab.research.google.com/github/amarindraa/rakamin/blob/main/homework_week6_kelompok.ipynb\" target=\"_parent\"><img src=\"https://colab.research.google.com/assets/colab-badge.svg\" alt=\"Open In Colab\"/></a>"
      ]
    },
    {
      "cell_type": "code",
      "execution_count": null,
      "id": "7229f2bc",
      "metadata": {
        "id": "7229f2bc"
      },
      "outputs": [],
      "source": [
        "# Home Work Week 6 - Kelompok\n",
        "\n",
        "# 1. Amarindra Ardinova\n",
        "# 2. Adi Panjoko\n",
        "# 3. Alriski Kurniawan Padjoda"
      ]
    },
    {
      "cell_type": "code",
      "execution_count": null,
      "id": "6f7e2883",
      "metadata": {
        "id": "6f7e2883"
      },
      "outputs": [],
      "source": [
        "import numpy as np\n",
        "import pandas as pd"
      ]
    },
    {
      "cell_type": "code",
      "execution_count": null,
      "id": "5dccd1a5",
      "metadata": {
        "id": "5dccd1a5",
        "outputId": "135a8edb-ad39-467d-ed2d-5a9cc82384b4"
      },
      "outputs": [
        {
          "name": "stdout",
          "output_type": "stream",
          "text": [
            "Total Plat Genap : 2\n",
            "Total Plat Ganjil: 7\n"
          ]
        }
      ],
      "source": [
        "# 1. \n",
        "\n",
        "# Ada berapa jumlah plat genap dan ganjil. (5 poin)\n",
        "# Langkah-langkah:\n",
        "# a. Gunakan materi iterasi dan conditional statement yang sudah kita pelajari\n",
        "# b. Manfaatkan operasi modulo (%) untuk menentukan bilang genap / ganjil\n",
        "# Untuk mempermudah kamu, yuk lihat resource di bawah ini:\n",
        "# ● Sesi 1 dan 2 pada Python Programming\n",
        "# ● Soal ini related dengan challange pertama pada Sesi 1 Python Programming\n",
        "\n",
        "list_plat_mobil = ['B 1234 AB', 'B 6721 TY', 'B 1233 AY', 'B 6629 DD', 'B 1111 AM',\n",
        "                   'B 6726 D', 'D 11223 KJ', 'AE 44677 GH', 'AE 67269 AA']\n",
        "\n",
        "genap = 0\n",
        "ganjil = 0\n",
        "\n",
        "for x in list_plat_mobil:\n",
        "    a = x.split()[1]\n",
        "    a = int(a)\n",
        "    \n",
        "    if a % 2 == 0:\n",
        "        genap += 1\n",
        "    else:\n",
        "        ganjil += 1\n",
        "\n",
        "print(\"Total Plat Genap :\", genap)\n",
        "print(\"Total Plat Ganjil:\", ganjil)\n"
      ]
    },
    {
      "cell_type": "code",
      "execution_count": null,
      "id": "7751988f",
      "metadata": {
        "id": "7751988f",
        "outputId": "65697e34-771a-43d2-a28b-1d2e366ebdef"
      },
      "outputs": [
        {
          "name": "stdout",
          "output_type": "stream",
          "text": [
            "[2, 3, 5, 8, 13, 21, 34, 55, 89, 144, 233, 377]\n"
          ]
        }
      ],
      "source": [
        "# 2\n",
        "\n",
        "# Buatlah deret fibonacci 12 angka yang dimulai dari 2 dan 3 menggunakan iterasi cara for atau while.\n",
        "# Output yang diharapkan adalah [2, 3, 5, 8, 13, 21, 34, 55, 89, 144, 233, 377]\n",
        "# Sesi 2 Python Programming bagian iterasi for / while\n",
        "\n",
        "n1 = 2\n",
        "n2 = 3\n",
        "n3 = n1 + n2\n",
        "\n",
        "fibo = [n1,n2]\n",
        "\n",
        "for x in range (10):\n",
        "    n3 = n1 + n2\n",
        "    fibo.append(n3)\n",
        "    n1 = n2\n",
        "    n2 = n3\n",
        "    \n",
        "print(fibo)"
      ]
    },
    {
      "cell_type": "code",
      "execution_count": null,
      "id": "ef0b6012",
      "metadata": {
        "id": "ef0b6012",
        "outputId": "65204c27-f903-43ff-efdb-068a5ad882ab"
      },
      "outputs": [
        {
          "name": "stdout",
          "output_type": "stream",
          "text": [
            "120\n"
          ]
        }
      ],
      "source": [
        "# 3\n",
        "\n",
        "# bundling category product (berisi 3 category setiap bundling)\n",
        "# 1. Tidak boleh hanya memiliki 1 jenis category dalam 1 bundling\n",
        "# 2. 1 Bundling boleh memiliki 2 category yang sama\n",
        "# 3. Urutan tidak menjadi faktor pembeda (c1 - c2 - c3 = c2 - c1 - c3).\n",
        "# Tentukan ada berapa jumlah kemungkinan bundling yang bisa terbentuk?\n",
        "\n",
        "# a. Buatlah variable kosong untuk menampung kemungkinan kombinasi\n",
        "# b. Gunakan penerapan nested for (for dalam for)\n",
        "# c. Buatlah logic pengecekan apakah kombinasi 3 categori sudah ada pada variable inisiasi awal\n",
        "# d. Manfaatkan fungsi sort untuk mengurutkan urutan kombinasi\n",
        "\n",
        "bundling_list = []\n",
        "list_category = ['c1', 'c2', 'c3', 'c4', 'c5', 'c6', 'c7', 'c8', 'c9', 'c10']\n",
        "\n",
        "for a in list_category:\n",
        "    for b in list_category:\n",
        "        for c in list_category:\n",
        "            if a != b and a != c and b != c:\n",
        "                bundling = sorted([a, b, c])\n",
        "                if bundling not in bundling_list:\n",
        "                    bundling_list.append(bundling)\n",
        "                    \n",
        "print(len(bundling_list))\n"
      ]
    },
    {
      "cell_type": "code",
      "execution_count": null,
      "id": "58e34b31",
      "metadata": {
        "id": "58e34b31"
      },
      "outputs": [],
      "source": [
        "# 4\n",
        "\n",
        "# function string_processor dengan inputan 2 parameter, string 1 kata dan nama proses.\n",
        "# Function ini memiliki 4 proses\n",
        "#  a. first_char : return huruf pertama dari string yang diinput \n",
        "#  b. last_char : return huruf terakhir dari string yang diinput\n",
        "#  c. num_chars : return jumlah huruf string input\n",
        "#  d. num_vowels : return jumlah huruf vocal pada string input\n",
        "\n",
        "\n",
        "def string_processor(kata, proses=\"num_chars\"):\n",
        "    proses = proses.lower()\n",
        "    if proses == \"first_char\":\n",
        "        return (kata[0].upper())\n",
        "    elif proses == \"last_char\":\n",
        "        return (kata[-1].lower())\n",
        "    elif proses == \"num_chars\":\n",
        "        return len(kata) \n",
        "    elif proses == \"num_vowels\":\n",
        "        vowels = \"aeiouAEIOU\"\n",
        "        hitung = 0\n",
        "        for huruf in kata:\n",
        "            if huruf in vowels:\n",
        "                hitung += 1\n",
        "        return hitung\n",
        "    else:\n",
        "        return \"Perintah '{}' tidak dikenali\".format((proses).upper())\n"
      ]
    },
    {
      "cell_type": "code",
      "execution_count": null,
      "id": "d254e3ed",
      "metadata": {
        "id": "d254e3ed",
        "outputId": "0859fb9e-ccc3-47eb-8f11-666e257f9c59"
      },
      "outputs": [
        {
          "data": {
            "text/html": [
              "<div>\n",
              "<style scoped>\n",
              "    .dataframe tbody tr th:only-of-type {\n",
              "        vertical-align: middle;\n",
              "    }\n",
              "\n",
              "    .dataframe tbody tr th {\n",
              "        vertical-align: top;\n",
              "    }\n",
              "\n",
              "    .dataframe thead th {\n",
              "        text-align: right;\n",
              "    }\n",
              "</style>\n",
              "<table border=\"1\" class=\"dataframe\">\n",
              "  <thead>\n",
              "    <tr style=\"text-align: right;\">\n",
              "      <th></th>\n",
              "      <th>is_gmail</th>\n",
              "      <th>user_id</th>\n",
              "    </tr>\n",
              "  </thead>\n",
              "  <tbody>\n",
              "    <tr>\n",
              "      <th>0</th>\n",
              "      <td>False</td>\n",
              "      <td>14</td>\n",
              "    </tr>\n",
              "    <tr>\n",
              "      <th>1</th>\n",
              "      <td>True</td>\n",
              "      <td>3</td>\n",
              "    </tr>\n",
              "  </tbody>\n",
              "</table>\n",
              "</div>"
            ],
            "text/plain": [
              "   is_gmail  user_id\n",
              "0     False       14\n",
              "1      True        3"
            ]
          },
          "execution_count": 7,
          "metadata": {},
          "output_type": "execute_result"
        }
      ],
      "source": [
        "# 5\n",
        "# Buatlah 1 kolom baru pada dengan teknik apply lambda tanpa function def (cukup one liner) \n",
        "# dengan nama kolom is_gmail dengan value True jika menggunakan gmail dan False jika selain gmail.\n",
        "# Tentukan ada berapa user yang menggunakan email gmail pada tahun 2018\n",
        "\n",
        "\n",
        "df = pd.read_csv('rakamin_store_city_monthly.csv', sep=';')\n",
        "df['is_gmail'] = df['email'].apply(lambda x : 'gmail' in x)\n",
        "df[df.month.str.contains('2018')].groupby('is_gmail')['user_id'].nunique().reset_index()"
      ]
    },
    {
      "cell_type": "code",
      "execution_count": null,
      "id": "c53eac08",
      "metadata": {
        "id": "c53eac08",
        "outputId": "035be0fa-ac46-48b1-85f0-cd224fa098e2"
      },
      "outputs": [
        {
          "name": "stdout",
          "output_type": "stream",
          "text": [
            "                  Sales      Profit\n",
            "Year Region                        \n",
            "2016 South   93610.2235  17702.8084\n",
            "                   Sales      Profit\n",
            "Year Region                         \n",
            "2017 West    250128.3655  43808.9561\n"
          ]
        }
      ],
      "source": [
        "# 6\n",
        "\n",
        "# Buatlah function yang bisa menghitung Jumlah Sales dan Profit pada suatu tahun dan region \n",
        "# tertentu dengan default tahun 2017.\n",
        "# Tentukan total sales dan profit:\n",
        "# 1. South Region pada tahun 2016\n",
        "# 2. West Region pada tahun 2017\n",
        "\n",
        "\n",
        "import pandas as pd\n",
        "\n",
        "df = pd.read_excel('superstore.xls')      \n",
        "df['Year']=df['Order Date'].dt.year       \n",
        "df = df.sort_values('Year').reset_index() \n",
        "\n",
        "def sales_profit(a, b=2017):\n",
        "    a = a.title()\n",
        "    filtered_df = df[(df['Region'] == a) & (df['Order Date'].dt.year == b)]\n",
        "    grouped_df = filtered_df.groupby(['Year','Region']).agg({'Sales': 'sum', 'Profit': 'sum'})\n",
        "    return grouped_df\n",
        "\n",
        "print(sales_profit('south',2016)) # 1\n",
        "print(sales_profit('west',2017))  # 2"
      ]
    },
    {
      "cell_type": "code",
      "execution_count": null,
      "id": "7ed1d21f",
      "metadata": {
        "id": "7ed1d21f"
      },
      "outputs": [],
      "source": [
        "# 7\n",
        "\n",
        "\n",
        "\n",
        "\n",
        "df = pd.read_excel('superstore.xls')\n",
        "df['Year']=df['Order Date'].dt.year       \n",
        "df = df.sort_values('Year').reset_index() \n",
        "\n",
        "# (1) mencari statistik data pada Kuartil untuk mendefinisikan Sales Segmen\n",
        "df.describe()\n",
        "\n",
        "\n",
        "# membuat definisi Sales Segment\n",
        "def segmen(i):\n",
        "    try:\n",
        "        if i['Sales'] <= 54:\n",
        "            segmen = 'Low'\n",
        "        elif i['Sales'] <= 210:\n",
        "            segmen = 'Medium'\n",
        "        else:\n",
        "            segmen = 'High'\n",
        "        return segmen\n",
        "    except KeyError:\n",
        "        return '-'\n",
        "\n",
        "# membuat kolom baru bernama Sales Segment\n",
        "df['Sales Segment'] = df.apply(lambda i: segmen(i), axis=1)\n",
        "\n",
        "\n",
        "# (2)\n",
        "# alasan :\n",
        "# dengan melihat nilai \"Sales\" pada fungsi describe(), nilai Kuartil 50% = 54.9\n",
        "# sedangkan nilai Kuartil 75% = 209.94. Gapnya terlalu jauh\n",
        "\n",
        "\n",
        "\n",
        "# (3) jumlah customer pada masing-masing segment di tahun 2017\n",
        "\n",
        "df[df.Year == 2017].groupby('Sales Segment')['Customer ID'].nunique().reset_index()\n"
      ]
    },
    {
      "cell_type": "code",
      "execution_count": null,
      "id": "95d3bccd",
      "metadata": {
        "id": "95d3bccd"
      },
      "outputs": [],
      "source": []
    }
  ],
  "metadata": {
    "kernelspec": {
      "display_name": "Python 3 (ipykernel)",
      "language": "python",
      "name": "python3"
    },
    "language_info": {
      "codemirror_mode": {
        "name": "ipython",
        "version": 3
      },
      "file_extension": ".py",
      "mimetype": "text/x-python",
      "name": "python",
      "nbconvert_exporter": "python",
      "pygments_lexer": "ipython3",
      "version": "3.10.9"
    },
    "colab": {
      "provenance": [],
      "include_colab_link": true
    }
  },
  "nbformat": 4,
  "nbformat_minor": 5
}