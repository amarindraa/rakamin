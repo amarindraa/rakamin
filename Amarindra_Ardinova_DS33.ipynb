{
  "cells": [
    {
      "cell_type": "markdown",
      "metadata": {
        "id": "view-in-github",
        "colab_type": "text"
      },
      "source": [
        "<a href=\"https://colab.research.google.com/github/amarindraa/rakamin/blob/main/Amarindra_Ardinova_DS33.ipynb\" target=\"_parent\"><img src=\"https://colab.research.google.com/assets/colab-badge.svg\" alt=\"Open In Colab\"/></a>"
      ]
    },
    {
      "cell_type": "code",
      "execution_count": null,
      "id": "212a523f",
      "metadata": {
        "id": "212a523f"
      },
      "outputs": [],
      "source": [
        "def bike_chart(tinggi_badan):\n",
        "    \"\"\"\n",
        "    Menentukan kategori ukuran Roadbike Pria berdasarkan tinggi badan.\n",
        "\n",
        "    Args:\n",
        "    tinggi_badan (int): Tinggi badan dalam satuan cm.\n",
        "\n",
        "    Returns:\n",
        "    str: Ukuran sepeda yang sesuai dengan tinggi badan.\n",
        "\n",
        "    Raises:\n",
        "    ValueError: Jika tinggi_badan tidak dalam rentang yang valid.\n",
        "    \"\"\"\n",
        "    a = 'Tidak tersedia dalam ukuran Roadbike Dewasa'\n",
        "    b = 'Tinggi badan tidak dalam rentang yang valid.'\n",
        "    c = 'Anda bukan orang biasa apa tiang listrik?'\n",
        "    try:\n",
        "        if tinggi_badan < 140:\n",
        "            return a\n",
        "        elif tinggi_badan < 150:\n",
        "            ukuran = \"XXS\"\n",
        "        elif tinggi_badan < 160:\n",
        "            ukuran = \"S\"\n",
        "        elif tinggi_badan < 174:\n",
        "            ukuran = \"M\"\n",
        "        elif tinggi_badan < 180:\n",
        "            ukuran = \"L\"\n",
        "        elif tinggi_badan < 195:\n",
        "            ukuran = \"XL\"\n",
        "        elif tinggi_badan < 200:\n",
        "            ukuran = \"XXL\"    \n",
        "        else:\n",
        "            return c\n",
        "    except ValueError:\n",
        "        return b\n",
        "\n",
        "    print(f\"Dengan tinggi badan {tinggi_badan} cm, ukuran Roadbikenya adalah: {ukuran}\")\n"
      ]
    },
    {
      "cell_type": "code",
      "source": [
        "from google.colab import drive\n",
        "drive.mount('/content/drive')"
      ],
      "metadata": {
        "id": "LOB2uB9ODy8H"
      },
      "id": "LOB2uB9ODy8H",
      "execution_count": null,
      "outputs": []
    },
    {
      "cell_type": "code",
      "execution_count": null,
      "id": "e2c56090",
      "metadata": {
        "colab": {
          "base_uri": "https://localhost:8080/"
        },
        "id": "e2c56090",
        "outputId": "6d275d59-45f5-4b0d-fdc0-b372fd4ae355"
      },
      "outputs": [
        {
          "output_type": "stream",
          "name": "stdout",
          "text": [
            "Dengan tinggi badan 160 cm, ukuran Roadbikenya adalah: M\n"
          ]
        }
      ],
      "source": [
        "bike_chart(160)"
      ]
    },
    {
      "cell_type": "code",
      "execution_count": null,
      "id": "74a4177e",
      "metadata": {
        "colab": {
          "base_uri": "https://localhost:8080/"
        },
        "id": "74a4177e",
        "outputId": "4ccc387c-2921-487a-8eb8-812aa43c2df9"
      },
      "outputs": [
        {
          "output_type": "stream",
          "name": "stdout",
          "text": [
            "Dengan tinggi badan 155 cm, ukuran Roadbikenya adalah: S\n"
          ]
        }
      ],
      "source": [
        "bike_chart(155)"
      ]
    },
    {
      "cell_type": "code",
      "source": [],
      "metadata": {
        "id": "vwIpSsVk_-a2"
      },
      "id": "vwIpSsVk_-a2",
      "execution_count": null,
      "outputs": []
    }
  ],
  "metadata": {
    "kernelspec": {
      "display_name": "Python 3 (ipykernel)",
      "language": "python",
      "name": "python3"
    },
    "language_info": {
      "codemirror_mode": {
        "name": "ipython",
        "version": 3
      },
      "file_extension": ".py",
      "mimetype": "text/x-python",
      "name": "python",
      "nbconvert_exporter": "python",
      "pygments_lexer": "ipython3",
      "version": "3.10.9"
    },
    "colab": {
      "provenance": [],
      "include_colab_link": true
    }
  },
  "nbformat": 4,
  "nbformat_minor": 5
}